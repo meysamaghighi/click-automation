{
 "cells": [
  {
   "cell_type": "code",
   "execution_count": 36,
   "id": "c6a20617",
   "metadata": {},
   "outputs": [],
   "source": [
    "# Author: Meysam Aghighi\n",
    "# Contact: meysam.aghighi@gmail.com\n",
    "# Date: 2024-03-12\n",
    "# Description: A script to automate clicks for a review automation job\n",
    "\n",
    "from selenium import webdriver\n",
    "from selenium.webdriver.chrome.options import Options\n",
    "from selenium.webdriver.common.keys import Keys\n",
    "from selenium.webdriver.common.by import By\n",
    "from selenium.webdriver.support.ui import WebDriverWait\n",
    "from selenium.webdriver.support import expected_conditions as EC\n",
    "import time"
   ]
  },
  {
   "cell_type": "code",
   "execution_count": 37,
   "id": "f9c3ae64",
   "metadata": {},
   "outputs": [],
   "source": [
    "# Replace 'path_to_chrome_driver' with the path to your Chrome driver executable\n",
    "driver = webdriver.Chrome()\n",
    "\n",
    "# # Open the webpage\n",
    "driver.get('https://yoursite.com/index.php')"
   ]
  },
  {
   "cell_type": "code",
   "execution_count": 38,
   "id": "735acafe",
   "metadata": {},
   "outputs": [],
   "source": [
    "## Login\n",
    "\n",
    "username = \"usename\"\n",
    "password = \"password\"\n",
    "\n",
    "driver.find_element(\"id\", \"username\").send_keys(username)\n",
    "driver.find_element(\"id\", \"txt_password\").send_keys(password)\n",
    "\n",
    "driver.find_element(\"id\", \"submitbut\").click()"
   ]
  },
  {
   "cell_type": "code",
   "execution_count": 43,
   "id": "35e9e9c1",
   "metadata": {},
   "outputs": [],
   "source": [
    "# go to reservation\n",
    "driver.get('https://yoursite.com/index.php')"
   ]
  },
  {
   "cell_type": "code",
   "execution_count": 44,
   "id": "5b196f01",
   "metadata": {},
   "outputs": [],
   "source": [
    "# Define the function to perform the clicks\n",
    "def perform_clicks():\n",
    "    # Wait for the \"One-click booking\" button to be clickable\n",
    "    one_click_button = WebDriverWait(driver, 10).until(\n",
    "        EC.element_to_be_clickable((By.ID, \"autoStart\"))\n",
    "    )\n",
    "    # Click on \"One-click booking\" button\n",
    "    one_click_button.click()\n",
    "\n",
    "    # Wait for 3 seconds\n",
    "    time.sleep(3)\n",
    "\n",
    "    # Wait for the submit button to be clickable\n",
    "    submit_button = WebDriverWait(driver, 10).until(\n",
    "        EC.element_to_be_clickable((By.CLASS_NAME, \"submit-container\"))\n",
    "    )\n",
    "    # Click on the submit button\n",
    "    submit_button.click()\n",
    "\n",
    "    # Wait for 3 seconds\n",
    "    time.sleep(3)"
   ]
  },
  {
   "cell_type": "code",
   "execution_count": null,
   "id": "effa0d5d",
   "metadata": {},
   "outputs": [],
   "source": [
    "# Loop to repeat the process\n",
    "while True:\n",
    "    perform_clicks()"
   ]
  }
 ],
 "metadata": {
  "kernelspec": {
   "display_name": "Python 3 (ipykernel)",
   "language": "python",
   "name": "python3"
  },
  "language_info": {
   "codemirror_mode": {
    "name": "ipython",
    "version": 3
   },
   "file_extension": ".py",
   "mimetype": "text/x-python",
   "name": "python",
   "nbconvert_exporter": "python",
   "pygments_lexer": "ipython3",
   "version": "3.11.1"
  }
 },
 "nbformat": 4,
 "nbformat_minor": 5
}
